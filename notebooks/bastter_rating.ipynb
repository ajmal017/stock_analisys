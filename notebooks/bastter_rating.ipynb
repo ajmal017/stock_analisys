{
 "cells": [
  {
   "cell_type": "code",
   "execution_count": 1,
   "metadata": {},
   "outputs": [],
   "source": [
    "%load_ext autoreload\n",
    "%autoreload 2"
   ]
  },
  {
   "cell_type": "code",
   "execution_count": 2,
   "metadata": {},
   "outputs": [],
   "source": [
    "import os\n",
    "os.chdir('..')"
   ]
  },
  {
   "cell_type": "markdown",
   "metadata": {},
   "source": [
    "## Analysis Ticker by Ticker"
   ]
  },
  {
   "cell_type": "code",
   "execution_count": null,
   "metadata": {},
   "outputs": [],
   "source": [
    "import stock_analisys.bastter_rating as br\n",
    "\n",
    "# Methods Use    \n",
    "stock_picked = br.ticker_selection()\n",
    "stock_object = br.Company(stock_picked)\n",
    "stock_object.data_retrieve()\n",
    "stock_object.data_info_to_clipboard()\n",
    "stock_object.plot_income()"
   ]
  },
  {
   "cell_type": "code",
   "execution_count": 169,
   "metadata": {},
   "outputs": [],
   "source": [
    "import stock_analisys.bastter_rating as br\n",
    "import stock_analisys.bastter_yellow_red as by\n",
    "\n",
    "generator = (x for x in range(300))"
   ]
  },
  {
   "cell_type": "code",
   "execution_count": 173,
   "metadata": {},
   "outputs": [
    {
     "name": "stdout",
     "output_type": "stream",
     "text": [
      "Analising the Company: ALIZF\n",
      "Simple balance file not found - Stock not downloaded yet\n",
      " ----- Grabing Data ------ \n",
      "Cookies Sucessifuly Loaded\n",
      " 'Net Income' - The simple balance for this stock was not downloaded - Only picking Company Info \n",
      "############# Info in clipboard #############\n"
     ]
    }
   ],
   "source": [
    "df = by.open_file()\n",
    "result = by.analyse(df, next(generator))\n",
    "\n",
    "print(f'Analising the Company: {result}')\n",
    "\n",
    "stock_object = br.Company(result)\n",
    "\n",
    "# Methods\n",
    "stock_object.data_retrieve()\n",
    "stock_object.data_info_to_clipboard()\n",
    "stock_object.plot_income()"
   ]
  }
 ],
 "metadata": {
  "kernelspec": {
   "display_name": "Python 3.8.2 64-bit ('stock_analisys': conda)",
   "language": "python",
   "name": "python38264bitstockanalisysconda9db1a91f3ca64bfaa9da37a4c26b86cf"
  },
  "language_info": {
   "codemirror_mode": {
    "name": "ipython",
    "version": 3
   },
   "file_extension": ".py",
   "mimetype": "text/x-python",
   "name": "python",
   "nbconvert_exporter": "python",
   "pygments_lexer": "ipython3",
   "version": "3.8.2"
  }
 },
 "nbformat": 4,
 "nbformat_minor": 4
}
