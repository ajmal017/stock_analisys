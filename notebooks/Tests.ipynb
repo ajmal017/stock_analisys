{
 "cells": [
  {
   "cell_type": "code",
   "execution_count": 1,
   "metadata": {},
   "outputs": [],
   "source": [
    "%load_ext autoreload\n",
    "%autoreload 2"
   ]
  },
  {
   "cell_type": "code",
   "execution_count": 2,
   "metadata": {},
   "outputs": [],
   "source": [
    "import os\n",
    "os.chdir('..')"
   ]
  },
  {
   "cell_type": "code",
   "execution_count": 3,
   "metadata": {},
   "outputs": [],
   "source": [
    "import stock_analisys.packages.paths as paths\n",
    "import pandas as pd\n",
    "import time\n",
    "import stock_analisys.packages.fundamentei_class as fc\n",
    "import concurrent.futures\n",
    "import random"
   ]
  },
  {
   "cell_type": "markdown",
   "metadata": {},
   "source": [
    "## Verifing Existence in Fundamentei"
   ]
  },
  {
   "cell_type": "code",
   "execution_count": 4,
   "metadata": {},
   "outputs": [],
   "source": [
    "df = pd.read_csv(paths.data_path / \"original_lists\" / \"all_us_tickers.csv\")\n",
    "companies_to_list = [x for x in df['Ticker']]"
   ]
  },
  {
   "cell_type": "code",
   "execution_count": 5,
   "metadata": {},
   "outputs": [],
   "source": [
    "def evaluate(ticker):\n",
    "    time.sleep(random.uniform(0.1,0.3))\n",
    "    existence_test = fc.FundamenteiEvaluate(ticker)\n",
    "    existence_test.evaluate_existence()\n",
    "    time.sleep(0.5)"
   ]
  },
  {
   "cell_type": "code",
   "execution_count": 6,
   "metadata": {},
   "outputs": [
    {
     "name": "stdout",
     "output_type": "stream",
     "text": [
      "Analising: https://fundamentei.com/us/aa\n",
      "Analising: https://fundamentei.com/us/a\n",
      "Page does not exist\n",
      "Stock Appended to Valid Stocks\n",
      "Analising: https://fundamentei.com/us/aaa\n",
      "Page does not exist\n",
      "Analising: https://fundamentei.com/us/aaaa\n",
      "Page does not exist\n",
      "Analising: https://fundamentei.com/us/aaab\n",
      "Page does not exist\n"
     ]
    }
   ],
   "source": [
    "with concurrent.futures.ThreadPoolExecutor(max_workers=2) as executor:        \n",
    "    # Start the load operations and mark each future with its URL\n",
    "    results = executor.map(evaluate, companies_to_list[:5])"
   ]
  },
  {
   "cell_type": "markdown",
   "metadata": {},
   "source": [
    "## Grabing Table from Ticker"
   ]
  },
  {
   "cell_type": "code",
   "execution_count": null,
   "metadata": {},
   "outputs": [],
   "source": [
    "import stock_analisys.packages.fundamentei_class as fc\n",
    "\n",
    "evaluate_test = fc.FundamenteiEvaluate(\"aapl\")\n",
    "evaluate_test.table_extract()\n",
    "display(evaluate_test.company_full_data)"
   ]
  }
 ],
 "metadata": {
  "kernelspec": {
   "display_name": "Python 3.8.2 64-bit ('stock_analisys': conda)",
   "language": "python",
   "name": "python38264bitstockanalisysconda9db1a91f3ca64bfaa9da37a4c26b86cf"
  },
  "language_info": {
   "codemirror_mode": {
    "name": "ipython",
    "version": 3
   },
   "file_extension": ".py",
   "mimetype": "text/x-python",
   "name": "python",
   "nbconvert_exporter": "python",
   "pygments_lexer": "ipython3",
   "version": "3.8.2"
  }
 },
 "nbformat": 4,
 "nbformat_minor": 4
}
