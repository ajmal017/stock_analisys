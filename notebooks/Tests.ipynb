{
 "cells": [
  {
   "cell_type": "code",
   "execution_count": null,
   "metadata": {},
   "outputs": [],
   "source": [
    "%load_ext autoreload\n",
    "%autoreload 2"
   ]
  },
  {
   "cell_type": "code",
   "execution_count": null,
   "metadata": {},
   "outputs": [],
   "source": [
    "import os\n",
    "os.chdir('..')"
   ]
  },
  {
   "cell_type": "code",
   "execution_count": null,
   "metadata": {},
   "outputs": [],
   "source": [
    "import concurrent.futures\n",
    "import random\n",
    "import stock_analisys.packages.paths as paths\n",
    "import pandas as pd\n",
    "import time\n",
    "import stock_analisys.packages.fundamentei_class as fc\n",
    "import stock_analisys.packages.plots_fundamentei as fundamentei_plot\n",
    "import stock_analisys.packages.bastter_class as bc\n",
    "import stock_analisys.packages.plots_bastter as bastter_plot\n",
    "import webbrowser"
   ]
  },
  {
   "cell_type": "markdown",
   "metadata": {},
   "source": [
    "# Plot Config "
   ]
  },
  {
   "cell_type": "code",
   "execution_count": null,
   "metadata": {},
   "outputs": [],
   "source": [
    "def complete_study(ticker):\n",
    "    fundamentei_plot.main(ticker)\n",
    "    bc.main_extract(ticker)\n",
    "    time.sleep(1)\n",
    "    bastter_plot.main(ticker)\n",
    "#     webbrowser.open_new_tab(f'https://bastter.com/mercado/stock/{ticker}')\n",
    "#     webbrowser.open_new_tab(f'https://financials.morningstar.com/income-statement/is.html?t={ticker}&region=usa&culture=en-US')"
   ]
  },
  {
   "cell_type": "code",
   "execution_count": null,
   "metadata": {},
   "outputs": [],
   "source": [
    "complete_study('rost')"
   ]
  }
 ],
 "metadata": {
  "kernelspec": {
   "display_name": "Python 3.8.2 64-bit ('stock_analisys': conda)",
   "language": "python",
   "name": "python38264bitstockanalisysconda9db1a91f3ca64bfaa9da37a4c26b86cf"
  },
  "language_info": {
   "codemirror_mode": {
    "name": "ipython",
    "version": 3
   },
   "file_extension": ".py",
   "mimetype": "text/x-python",
   "name": "python",
   "nbconvert_exporter": "python",
   "pygments_lexer": "ipython3",
   "version": "3.8.2"
  }
 },
 "nbformat": 4,
 "nbformat_minor": 4
}
