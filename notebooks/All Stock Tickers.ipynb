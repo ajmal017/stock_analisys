{
 "cells": [
  {
   "cell_type": "markdown",
   "metadata": {
    "colab_type": "text",
    "id": "E-2F7VoYZyk4"
   },
   "source": [
    "# Notebook com a retirada de todos os Ticker de todas as empresas \n"
   ]
  },
  {
   "cell_type": "code",
   "execution_count": 27,
   "metadata": {
    "colab": {},
    "colab_type": "code",
    "id": "gRbaQot-Zw_8"
   },
   "outputs": [],
   "source": [
    "import pandas as pd\n",
    "import requests\n",
    "from bs4 import BeautifulSoup\n",
    "from pprint import pprint\n",
    "import time\n",
    "from IPython.display import clear_output\n",
    "\n",
    "#Paralelismo \n",
    "from concurrent.futures import ThreadPoolExecutor\n",
    "from concurrent.futures import as_completed"
   ]
  },
  {
   "cell_type": "markdown",
   "metadata": {
    "colab_type": "text",
    "id": "1uk4Riuj7Fi7"
   },
   "source": [
    "## Análise de Links e Paralelismo"
   ]
  },
  {
   "cell_type": "code",
   "execution_count": 2,
   "metadata": {
    "colab": {},
    "colab_type": "code",
    "id": "-4s1zaRk7Fi7"
   },
   "outputs": [],
   "source": [
    "\"\"\"\n",
    "-------------------------------------------------------------------------------\n",
    "Função Base\n",
    "Nesse caso uma função que recebe uma URL e devolve um Bs4\n",
    "-------------------------------------------------------------------------------\n",
    "\"\"\"\n",
    "    \n",
    "def url_bs4(url):\n",
    "\n",
    "    # Formando o Header \n",
    "    header = {\"User-Agent\": \"Mozilla/5.0 (X11; Linux x86_64) AppleWebKit/537.36 (KHTML, like Gecko) Chrome/50.0.2661.75 Safari/537.36\",\n",
    "        \"X-Requested-With\": \"XMLHttpRequest\"}\n",
    "        \n",
    "    # Testando a URL \n",
    "    try:\n",
    "        #print(f'Analisando a página {url}')\n",
    "        page = requests.get(url, headers = header, timeout=15)\n",
    "        \n",
    "        # Se a página carregou mas não deu 200 mostra o erro e Fala que o Soup é Falso\n",
    "        if page.status_code != 200:\n",
    "            print(f'A requisição da página {url} retornou o erro {page.status_code}')\n",
    "            soup = f'{url} False'\n",
    "            \n",
    "        # Se o retorno foi OK = 200, cria o BS4\n",
    "        else:\n",
    "            soup_evalue = f\" {url.split('/')[-1]}  \" + BeautifulSoup(page.text, 'lxml').h2.get_text() #!!!!! Tá tirando só o title !!!! \n",
    "            \n",
    "            if '-' not in soup_evalue:\n",
    "                soup = soup_evalue.strip().upper() + ' = False'\n",
    "            else:\n",
    "                soup = BeautifulSoup(page.text, 'lxml').h2.get_text()\n",
    "                \n",
    "            print(f'Avaliando {soup_evalue}')\n",
    "            clear_output(wait=True)\n",
    "            \n",
    "    except Exception as erro:\n",
    "        print(f'Ao tentar pegar a URL tivemos o erro [{erro}]')\n",
    "        soup = f'{url} False'\n",
    "        \n",
    "    \n",
    "    # Descansa 10 segundos entre as calls         \n",
    "    time.sleep(10)\n",
    "    \n",
    "    return soup\n",
    "\n",
    "\"\"\"\n",
    "-------------------------------------------------------------------------------\n",
    "Função de Paralelização \n",
    "-------------------------------------------------------------------------------\n",
    "\"\"\"\n",
    "   \n",
    "def main(workers, lista_links):\n",
    "    \n",
    "    \n",
    "    # Criando uma função que vai Criar o Pool de trabalhadores \n",
    "    with ThreadPoolExecutor(max_workers = workers) as executor:\n",
    "        \n",
    "        \"\"\" Criamos um grupo de trabalho(futures) para cada um dos trabalhadores com uma 'list comprehension'\"\"\"\n",
    "        # É como se eu tivesse feito um for item in lista_links future_to url = executor...\n",
    "        future_to_url = [executor.submit(url_bs4, url) for url in lista_links]\n",
    "        \n",
    "        \"\"\"Essa parte do programa faz o seguinte: \n",
    "        O as_completed é uma função que captura \"O RETORNO DA FUNÇÃO\" de cada um do trabalhadores medida que eles completam\n",
    "        Mas isso não devolve uma lista como no map e sim um interador que precisa ser passado pr aoutra coisa. \n",
    "        Assim que eles todos terminam, faz o que quiser com o resultado retornado pela função aplicada\"\"\"\n",
    "        \n",
    "        for item in as_completed(future_to_url):\n",
    "            \n",
    "            try:                     \n",
    "                retornos_futuros = item.result() # Não pode esquecer o .result, senão ele fica um Objeto Futures\n",
    "                \n",
    "                # Testa o conteúdo dos resultados\n",
    "                if retornos_futuros != None:\n",
    "                    stocks_info.append(retornos_futuros)\n",
    "                else:\n",
    "                    stocks_info.append(0)\n",
    "            \n",
    "            except Exception as erro:\n",
    "                print(f'Essa iteração específica da função não foi possível. Erro {erro}')\n",
    "            \n",
    "    # Retorna a lista com os resultados das puxadas BS4 paralelas \n",
    "    return stocks_info "
   ]
  },
  {
   "cell_type": "markdown",
   "metadata": {
    "colab_type": "text",
    "id": "BuRpugstx1sz"
   },
   "source": [
    "# Tratamento do Dataframe"
   ]
  },
  {
   "cell_type": "markdown",
   "metadata": {
    "colab_type": "text",
    "id": "yLoYTTrx7Fi_"
   },
   "source": [
    "## Abertura e separação apenas das colunas necessárias"
   ]
  },
  {
   "cell_type": "code",
   "execution_count": 28,
   "metadata": {
    "colab": {
     "base_uri": "https://localhost:8080/",
     "height": 194
    },
    "colab_type": "code",
    "executionInfo": {
     "elapsed": 3266,
     "status": "ok",
     "timestamp": 1587815955333,
     "user": {
      "displayName": "Bruno Resende",
      "photoUrl": "https://lh4.googleusercontent.com/-xGllpZMWIRM/AAAAAAAAAAI/AAAAAAAAATo/KyAa1QvSKlc/s64/photo.jpg",
      "userId": "10713419484442461753"
     },
     "user_tz": 180
    },
    "id": "kMTFh4NPCsXv",
    "outputId": "b846c152-5237-4f17-fd73-9f22ccf883c3"
   },
   "outputs": [
    {
     "data": {
      "text/html": [
       "<div>\n",
       "<style scoped>\n",
       "    .dataframe tbody tr th:only-of-type {\n",
       "        vertical-align: middle;\n",
       "    }\n",
       "\n",
       "    .dataframe tbody tr th {\n",
       "        vertical-align: top;\n",
       "    }\n",
       "\n",
       "    .dataframe thead th {\n",
       "        text-align: right;\n",
       "    }\n",
       "</style>\n",
       "<table border=\"1\" class=\"dataframe\">\n",
       "  <thead>\n",
       "    <tr style=\"text-align: right;\">\n",
       "      <th></th>\n",
       "      <th>Ticker</th>\n",
       "      <th>Company</th>\n",
       "      <th>MS</th>\n",
       "      <th>MBI</th>\n",
       "      <th>MB</th>\n",
       "      <th>CNN</th>\n",
       "      <th>BS</th>\n",
       "    </tr>\n",
       "  </thead>\n",
       "  <tbody>\n",
       "    <tr>\n",
       "      <th>3724</th>\n",
       "      <td>ZSPH</td>\n",
       "      <td>ZS Pharma Inc</td>\n",
       "      <td>False</td>\n",
       "      <td>False</td>\n",
       "      <td>True</td>\n",
       "      <td>False</td>\n",
       "      <td>False</td>\n",
       "    </tr>\n",
       "    <tr>\n",
       "      <th>3725</th>\n",
       "      <td>ZTCOF</td>\n",
       "      <td>ZTE Corp</td>\n",
       "      <td>False</td>\n",
       "      <td>False</td>\n",
       "      <td>True</td>\n",
       "      <td>True</td>\n",
       "      <td>False</td>\n",
       "    </tr>\n",
       "    <tr>\n",
       "      <th>3726</th>\n",
       "      <td>ZTCOY</td>\n",
       "      <td>ZTE Corp</td>\n",
       "      <td>False</td>\n",
       "      <td>False</td>\n",
       "      <td>True</td>\n",
       "      <td>True</td>\n",
       "      <td>False</td>\n",
       "    </tr>\n",
       "    <tr>\n",
       "      <th>3727</th>\n",
       "      <td>ZURVY</td>\n",
       "      <td>Zurich Insurance Group AG</td>\n",
       "      <td>False</td>\n",
       "      <td>False</td>\n",
       "      <td>True</td>\n",
       "      <td>True</td>\n",
       "      <td>False</td>\n",
       "    </tr>\n",
       "    <tr>\n",
       "      <th>3728</th>\n",
       "      <td>ZZLL</td>\n",
       "      <td>ZZLL Information Technology Inc</td>\n",
       "      <td>False</td>\n",
       "      <td>False</td>\n",
       "      <td>True</td>\n",
       "      <td>True</td>\n",
       "      <td>False</td>\n",
       "    </tr>\n",
       "  </tbody>\n",
       "</table>\n",
       "</div>"
      ],
      "text/plain": [
       "     Ticker                          Company     MS    MBI    MB    CNN     BS\n",
       "3724   ZSPH                    ZS Pharma Inc  False  False  True  False  False\n",
       "3725  ZTCOF                         ZTE Corp  False  False  True   True  False\n",
       "3726  ZTCOY                         ZTE Corp  False  False  True   True  False\n",
       "3727  ZURVY        Zurich Insurance Group AG  False  False  True   True  False\n",
       "3728   ZZLL  ZZLL Information Technology Inc  False  False  True   True  False"
      ]
     },
     "execution_count": 28,
     "metadata": {},
     "output_type": "execute_result"
    }
   ],
   "source": [
    "#Criando o DF\n",
    "df = pd.read_csv(\"../Stock_Prices/market_beat.csv\") \n",
    "df_filtered = df.copy()\n",
    "df_filtered.tail()"
   ]
  },
  {
   "cell_type": "markdown",
   "metadata": {
    "colab_type": "text",
    "id": "NeAVVO9K7FjC"
   },
   "source": [
    "## Função que pega cada um dos ticker e transforma ele em um novo DataFrame com um Link"
   ]
  },
  {
   "cell_type": "code",
   "execution_count": 15,
   "metadata": {
    "colab": {
     "base_uri": "https://localhost:8080/",
     "height": 194
    },
    "colab_type": "code",
    "executionInfo": {
     "elapsed": 944,
     "status": "ok",
     "timestamp": 1587815961163,
     "user": {
      "displayName": "Bruno Resende",
      "photoUrl": "https://lh4.googleusercontent.com/-xGllpZMWIRM/AAAAAAAAAAI/AAAAAAAAATo/KyAa1QvSKlc/s64/photo.jpg",
      "userId": "10713419484442461753"
     },
     "user_tz": 180
    },
    "id": "SnBjPvKo7FjC",
    "outputId": "3266dc6c-ae56-4c9e-ad93-35b649f374b3"
   },
   "outputs": [
    {
     "data": {
      "text/html": [
       "<div>\n",
       "<style scoped>\n",
       "    .dataframe tbody tr th:only-of-type {\n",
       "        vertical-align: middle;\n",
       "    }\n",
       "\n",
       "    .dataframe tbody tr th {\n",
       "        vertical-align: top;\n",
       "    }\n",
       "\n",
       "    .dataframe thead th {\n",
       "        text-align: right;\n",
       "    }\n",
       "</style>\n",
       "<table border=\"1\" class=\"dataframe\">\n",
       "  <thead>\n",
       "    <tr style=\"text-align: right;\">\n",
       "      <th></th>\n",
       "      <th>Ticker</th>\n",
       "    </tr>\n",
       "  </thead>\n",
       "  <tbody>\n",
       "    <tr>\n",
       "      <th>21291</th>\n",
       "      <td>https://bastter.com/mercado/stock/top</td>\n",
       "    </tr>\n",
       "    <tr>\n",
       "      <th>21292</th>\n",
       "      <td>https://bastter.com/mercado/stock/vaso</td>\n",
       "    </tr>\n",
       "    <tr>\n",
       "      <th>21293</th>\n",
       "      <td>https://bastter.com/mercado/stock/vipr</td>\n",
       "    </tr>\n",
       "    <tr>\n",
       "      <th>21294</th>\n",
       "      <td>https://bastter.com/mercado/stock/zeon</td>\n",
       "    </tr>\n",
       "    <tr>\n",
       "      <th>21295</th>\n",
       "      <td>https://bastter.com/mercado/stock/international</td>\n",
       "    </tr>\n",
       "  </tbody>\n",
       "</table>\n",
       "</div>"
      ],
      "text/plain": [
       "                                                Ticker\n",
       "21291            https://bastter.com/mercado/stock/top\n",
       "21292           https://bastter.com/mercado/stock/vaso\n",
       "21293           https://bastter.com/mercado/stock/vipr\n",
       "21294           https://bastter.com/mercado/stock/zeon\n",
       "21295  https://bastter.com/mercado/stock/international"
      ]
     },
     "execution_count": 15,
     "metadata": {},
     "output_type": "execute_result"
    }
   ],
   "source": [
    "def transforma_link(ticker):\n",
    "    return f'https://bastter.com/mercado/stock/{ticker}'\n",
    "    #return f'https://www.cnbc.com/quotes/?symbol={ticker}'\n",
    "    #return f'https://www.morningstar.com/stocks/xnys/{ticker}/quote'\n",
    "    #return f'https://www.bing.com/search?q={ticker}+stock'\n",
    "    #return f'https://www.marketbeat.com/stocks/{ticker}/'\n",
    "\n",
    "df_filtered['Ticker'] = df_filtered['Ticker'].apply(transforma_link)\n",
    "df_filtered['Ticker'] = df_filtered['Ticker'].str.lower() \n",
    "\n",
    "# Pegando apenas o Ticker\n",
    "df_filtered = df_filtered.drop(['Company','MS','MBI','MB','CNN'], axis =1)\n",
    "df_filtered.tail()"
   ]
  },
  {
   "cell_type": "markdown",
   "metadata": {
    "colab_type": "text",
    "id": "J3Mz9vYy7FjG"
   },
   "source": [
    "## Função que faz a criação de Uma lista com os links pra ser avalidada pela função recursiva lá em cima"
   ]
  },
  {
   "cell_type": "code",
   "execution_count": 16,
   "metadata": {
    "colab": {},
    "colab_type": "code",
    "id": "WrSKMoi97FjG"
   },
   "outputs": [],
   "source": [
    "# Cria a lista em cima da Series\n",
    "list_df = df_filtered.values.tolist()\n",
    "\n",
    "# Mas como ela gera uma lista dentro de uma lista eu preciso tirar elas pra 1 lista só \n",
    "links_stocks = []\n",
    "\n",
    "for lista in list_df:\n",
    "    for item in lista: \n",
    "        links_stocks.append(item)"
   ]
  },
  {
   "cell_type": "code",
   "execution_count": 17,
   "metadata": {
    "colab": {
     "base_uri": "https://localhost:8080/",
     "height": 54
    },
    "colab_type": "code",
    "executionInfo": {
     "elapsed": 778,
     "status": "ok",
     "timestamp": 1587815968059,
     "user": {
      "displayName": "Bruno Resende",
      "photoUrl": "https://lh4.googleusercontent.com/-xGllpZMWIRM/AAAAAAAAAAI/AAAAAAAAATo/KyAa1QvSKlc/s64/photo.jpg",
      "userId": "10713419484442461753"
     },
     "user_tz": 180
    },
    "id": "FDpYGdoK7FjJ",
    "outputId": "864d4878-c4bd-4ac7-8c3e-2e19ac5a154f"
   },
   "outputs": [
    {
     "name": "stdout",
     "output_type": "stream",
     "text": [
      "['https://bastter.com/mercado/stock/a', 'https://bastter.com/mercado/stock/aa', 'https://bastter.com/mercado/stock/aaag', 'https://bastter.com/mercado/stock/aaalf', 'https://bastter.com/mercado/stock/aaaly']\n"
     ]
    }
   ],
   "source": [
    "# Pra quando precisar fazer teste em cima do dataframe \n",
    "teste = links_stocks[:25]\n",
    "print(teste[:5])"
   ]
  },
  {
   "cell_type": "markdown",
   "metadata": {
    "colab_type": "text",
    "id": "ndPWaqS17FjL"
   },
   "source": [
    "# Execução do Programa "
   ]
  },
  {
   "cell_type": "code",
   "execution_count": 18,
   "metadata": {
    "colab": {},
    "colab_type": "code",
    "id": "gdDBUKTb7FjM"
   },
   "outputs": [
    {
     "name": "stdout",
     "output_type": "stream",
     "text": [
      "Wall time: 2h 37min 13s\n",
      "A lista Stocks Info tem todas as informações BS4 das stocks. Filtre-as em outra variável com Lambdas ou Comprehensions\n"
     ]
    }
   ],
   "source": [
    "if __name__ == '__main__':\n",
    "    \n",
    "    \n",
    "    links_teste = ['https://bastter.com/mercado/stock/xupilas' , 'https://bastter.com/mercado/stock/mmm', 'https://bastter.com/mercado/stock/aa']\n",
    "    \n",
    "    # Lista onde as informações serão armazenadas\n",
    "    stocks_info = []\n",
    "    \n",
    "    # Executo a Função Main jogando como parametro a lista Links \n",
    "   \n",
    "    #%time main(10, links_teste)\n",
    "    #%time main(50, teste)\n",
    "    %time main(25, links_stocks)\n",
    "    \n",
    "    print('A lista Stocks Info tem todas as informações BS4 das stocks. Filtre-as em outra variável com Lambdas ou Comprehensions')\n",
    "    "
   ]
  },
  {
   "cell_type": "code",
   "execution_count": 19,
   "metadata": {
    "colab": {
     "base_uri": "https://localhost:8080/",
     "height": 102
    },
    "colab_type": "code",
    "executionInfo": {
     "elapsed": 1044,
     "status": "ok",
     "timestamp": 1587816505059,
     "user": {
      "displayName": "Bruno Resende",
      "photoUrl": "https://lh4.googleusercontent.com/-xGllpZMWIRM/AAAAAAAAAAI/AAAAAAAAATo/KyAa1QvSKlc/s64/photo.jpg",
      "userId": "10713419484442461753"
     },
     "user_tz": 180
    },
    "id": "wuP5VKuPNilc",
    "outputId": "ebb74fbd-6dc4-4346-ad47-6b22e5935307"
   },
   "outputs": [
    {
     "name": "stdout",
     "output_type": "stream",
     "text": [
      "AAALY = False\n",
      "AABA = False\n",
      "AACEY = False\n",
      "AAAG = False\n",
      "AABGF = False\n",
      "AAGEF = False\n",
      "AACAY = False\n",
      "AAALF = False\n",
      "AAGRY = False\n",
      "AAHTF = False\n"
     ]
    }
   ],
   "source": [
    "for item in stocks_info[:10]:\n",
    "  print(item)"
   ]
  },
  {
   "cell_type": "markdown",
   "metadata": {
    "colab_type": "text",
    "id": "1MBFw91I7FjP"
   },
   "source": [
    "# Avaliação dos resultados BS4"
   ]
  },
  {
   "cell_type": "markdown",
   "metadata": {
    "colab_type": "text",
    "id": "q8OvZwI97FjS"
   },
   "source": [
    "## For LOOP\n",
    "> Pega cada um dos itens da lista Stocks_Info (BS4),e joga numa nova lista [Stocks_Evalueted] contendo os Ticker e Se a ação é negociada."
   ]
  },
  {
   "cell_type": "code",
   "execution_count": 20,
   "metadata": {
    "colab": {
     "base_uri": "https://localhost:8080/",
     "height": 34
    },
    "colab_type": "code",
    "executionInfo": {
     "elapsed": 1225,
     "status": "ok",
     "timestamp": 1587816583979,
     "user": {
      "displayName": "Bruno Resende",
      "photoUrl": "https://lh4.googleusercontent.com/-xGllpZMWIRM/AAAAAAAAAAI/AAAAAAAAATo/KyAa1QvSKlc/s64/photo.jpg",
      "userId": "10713419484442461753"
     },
     "user_tz": 180
    },
    "id": "bOjl9NXW7FjT",
    "outputId": "4bd8bf54-aa18-4a0f-b173-3c3cb0502243"
   },
   "outputs": [
    {
     "name": "stdout",
     "output_type": "stream",
     "text": [
      "[('CUNB', False), ('CUNCF', False), ('CUO', True), ('CUOTF', False), ('CUPHF', False), ('CUPUF', False), ('CUR', True), ('CURLF', False), ('CURM', False), ('CURN', False), ('CURO', True), ('CURR', False), ('CUSI', False), ('CUSPY', False), ('CUTEF', False), ('CUTR', True), ('CUUCF', False), ('CUUHF', False), ('CUVMF', False), ('CUYRF', False)]\n"
     ]
    }
   ],
   "source": [
    "evalueted_stock = list()\n",
    "\n",
    "for item in stocks_info:\n",
    "    \n",
    "    if ' False' in item :\n",
    "        evalueted_stock.append((item.split('/')[-1].replace(\"=\",\"\").replace(\"False\",\"\").strip().upper(), False))  # Aplica o ticker_remover no Título da Página\n",
    "        \n",
    "    else: # OS BS4 VEM PRA CÁ!!\n",
    "        evalueted_stock.append((item.split()[0].split()[0], True))\n",
    "\n",
    "evalueted_stock.sort()\n",
    "print(evalueted_stock[5000:5020])\n"
   ]
  },
  {
   "cell_type": "markdown",
   "metadata": {
    "colab_type": "text",
    "id": "Vzv1g-R77FjV"
   },
   "source": [
    "## Criação do Dicionário/ Dataframe\n",
    "> Pega a lista com os tickers do passo anterior e cria um dicionário onde as keys são os Ticker"
   ]
  },
  {
   "cell_type": "code",
   "execution_count": 21,
   "metadata": {
    "colab": {
     "base_uri": "https://localhost:8080/",
     "height": 34
    },
    "colab_type": "code",
    "executionInfo": {
     "elapsed": 804,
     "status": "ok",
     "timestamp": 1587813569123,
     "user": {
      "displayName": "Bruno Resende",
      "photoUrl": "https://lh4.googleusercontent.com/-xGllpZMWIRM/AAAAAAAAAAI/AAAAAAAAATo/KyAa1QvSKlc/s64/photo.jpg",
      "userId": "10713419484442461753"
     },
     "user_tz": 180
    },
    "id": "a4IXiIgA7FjW",
    "outputId": "714ae5f6-b118-4bb9-d969-c2bff43de449"
   },
   "outputs": [
    {
     "name": "stdout",
     "output_type": "stream",
     "text": [
      "True\n"
     ]
    }
   ],
   "source": [
    "dicionario_stocks_evalueted = {key.upper() : value for key, value in evalueted_stock}\n",
    "print(dicionario_stocks_evalueted['AAPL'])"
   ]
  },
  {
   "cell_type": "code",
   "execution_count": 22,
   "metadata": {
    "colab": {
     "base_uri": "https://localhost:8080/",
     "height": 623
    },
    "colab_type": "code",
    "executionInfo": {
     "elapsed": 745,
     "status": "ok",
     "timestamp": 1587813638142,
     "user": {
      "displayName": "Bruno Resende",
      "photoUrl": "https://lh4.googleusercontent.com/-xGllpZMWIRM/AAAAAAAAAAI/AAAAAAAAATo/KyAa1QvSKlc/s64/photo.jpg",
      "userId": "10713419484442461753"
     },
     "user_tz": 180
    },
    "id": "e9j5MhuK7FjY",
    "outputId": "85589fa3-3a09-4cf2-f980-866ad3fca3ea"
   },
   "outputs": [
    {
     "data": {
      "text/html": [
       "<div>\n",
       "<style scoped>\n",
       "    .dataframe tbody tr th:only-of-type {\n",
       "        vertical-align: middle;\n",
       "    }\n",
       "\n",
       "    .dataframe tbody tr th {\n",
       "        vertical-align: top;\n",
       "    }\n",
       "\n",
       "    .dataframe thead th {\n",
       "        text-align: right;\n",
       "    }\n",
       "</style>\n",
       "<table border=\"1\" class=\"dataframe\">\n",
       "  <thead>\n",
       "    <tr style=\"text-align: right;\">\n",
       "      <th></th>\n",
       "      <th>Ticker</th>\n",
       "      <th>BS</th>\n",
       "    </tr>\n",
       "  </thead>\n",
       "  <tbody>\n",
       "    <tr>\n",
       "      <th>0</th>\n",
       "      <td>A</td>\n",
       "      <td>True</td>\n",
       "    </tr>\n",
       "    <tr>\n",
       "      <th>1</th>\n",
       "      <td>AA</td>\n",
       "      <td>True</td>\n",
       "    </tr>\n",
       "    <tr>\n",
       "      <th>2</th>\n",
       "      <td>AAAG</td>\n",
       "      <td>False</td>\n",
       "    </tr>\n",
       "    <tr>\n",
       "      <th>3</th>\n",
       "      <td>AAALF</td>\n",
       "      <td>False</td>\n",
       "    </tr>\n",
       "    <tr>\n",
       "      <th>4</th>\n",
       "      <td>AAALY</td>\n",
       "      <td>False</td>\n",
       "    </tr>\n",
       "    <tr>\n",
       "      <th>...</th>\n",
       "      <td>...</td>\n",
       "      <td>...</td>\n",
       "    </tr>\n",
       "    <tr>\n",
       "      <th>21246</th>\n",
       "      <td>^HSI</td>\n",
       "      <td>False</td>\n",
       "    </tr>\n",
       "    <tr>\n",
       "      <th>21247</th>\n",
       "      <td>^IXIC</td>\n",
       "      <td>False</td>\n",
       "    </tr>\n",
       "    <tr>\n",
       "      <th>21248</th>\n",
       "      <td>^N225</td>\n",
       "      <td>False</td>\n",
       "    </tr>\n",
       "    <tr>\n",
       "      <th>21249</th>\n",
       "      <td>^OMXSPI</td>\n",
       "      <td>False</td>\n",
       "    </tr>\n",
       "    <tr>\n",
       "      <th>21250</th>\n",
       "      <td>^TWII</td>\n",
       "      <td>False</td>\n",
       "    </tr>\n",
       "  </tbody>\n",
       "</table>\n",
       "<p>21251 rows × 2 columns</p>\n",
       "</div>"
      ],
      "text/plain": [
       "        Ticker     BS\n",
       "0            A   True\n",
       "1           AA   True\n",
       "2         AAAG  False\n",
       "3        AAALF  False\n",
       "4        AAALY  False\n",
       "...        ...    ...\n",
       "21246     ^HSI  False\n",
       "21247    ^IXIC  False\n",
       "21248    ^N225  False\n",
       "21249  ^OMXSPI  False\n",
       "21250    ^TWII  False\n",
       "\n",
       "[21251 rows x 2 columns]"
      ]
     },
     "execution_count": 22,
     "metadata": {},
     "output_type": "execute_result"
    }
   ],
   "source": [
    "df_evalueted = pd.DataFrame.from_dict(dicionario_stocks_evalueted, orient='index')\n",
    "df_evalueted = df_evalueted.reset_index()\n",
    "df_evalueted = df_evalueted.rename(columns = {\"index\":\"Ticker\", 0: \"BS\"}) \n",
    "df_evalueted"
   ]
  },
  {
   "cell_type": "markdown",
   "metadata": {
    "colab": {},
    "colab_type": "code",
    "id": "kt4qLPPh7Fjd"
   },
   "source": [
    "## Merge dos DFs"
   ]
  },
  {
   "cell_type": "code",
   "execution_count": 26,
   "metadata": {
    "colab": {
     "base_uri": "https://localhost:8080/",
     "height": 623
    },
    "colab_type": "code",
    "executionInfo": {
     "elapsed": 517,
     "status": "ok",
     "timestamp": 1587813932382,
     "user": {
      "displayName": "Bruno Resende",
      "photoUrl": "https://lh4.googleusercontent.com/-xGllpZMWIRM/AAAAAAAAAAI/AAAAAAAAATo/KyAa1QvSKlc/s64/photo.jpg",
      "userId": "10713419484442461753"
     },
     "user_tz": 180
    },
    "id": "R0UKSPBf7Efn",
    "outputId": "03c6e50c-7ed2-4ccf-9bfb-7c4c8ed5900a"
   },
   "outputs": [],
   "source": [
    "df_merged = pd.merge(df, df_evalueted, on='Ticker', how='outer')\n",
    "df_merged.to_csv('bastter_all_stocks.csv')\n"
   ]
  }
 ],
 "metadata": {
  "colab": {
   "collapsed_sections": [
    "v1hUpAw9G1V9"
   ],
   "machine_shape": "hm",
   "name": "All Stock Tickers",
   "provenance": []
  },
  "kernelspec": {
   "display_name": "Python 3",
   "language": "python",
   "name": "python3"
  },
  "language_info": {
   "codemirror_mode": {
    "name": "ipython",
    "version": 3
   },
   "file_extension": ".py",
   "mimetype": "text/x-python",
   "name": "python",
   "nbconvert_exporter": "python",
   "pygments_lexer": "ipython3",
   "version": "3.7.7"
  }
 },
 "nbformat": 4,
 "nbformat_minor": 4
}