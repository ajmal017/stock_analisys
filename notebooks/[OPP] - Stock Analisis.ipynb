{
 "cells": [
  {
   "cell_type": "markdown",
   "metadata": {
    "colab_type": "text",
    "id": "4jxvk7mepDGU"
   },
   "source": [
    "# Script que gera os CSV com os arquivos de cada empresa"
   ]
  },
  {
   "cell_type": "code",
   "execution_count": null,
   "metadata": {
    "colab": {},
    "colab_type": "code",
    "id": "oneKpd1e7yii"
   },
   "outputs": [],
   "source": [
    "%load_ext autoreload\n",
    "%autoreload 2"
   ]
  },
  {
   "cell_type": "markdown",
   "metadata": {
    "colab_type": "text",
    "id": "XNuZw9Lw7yir"
   },
   "source": [
    "# Importanto Bibliotecas"
   ]
  },
  {
   "cell_type": "code",
   "execution_count": null,
   "metadata": {
    "colab": {},
    "colab_type": "code",
    "id": "QOzhF2m97yis",
    "outputId": "9fc2333b-b35c-488d-9607-4cd33c5386db"
   },
   "outputs": [
    {
     "name": "stdout",
     "output_type": "stream",
     "text": [
      "Módulo Carregado com Sucesso\n"
     ]
    }
   ],
   "source": [
    "import time\n",
    "import concurrent.futures\n",
    "import Stock_Prices.stock_prices.bastter_module as bastter_module"
   ]
  },
  {
   "cell_type": "code",
   "execution_count": null,
   "metadata": {
    "colab": {},
    "colab_type": "code",
    "id": "BRJIxhNM7yiv"
   },
   "outputs": [],
   "source": [
    "companies = range(1010,2000) #Repetir\n",
    "\n",
    "inicio = time.time()\n",
    "with concurrent.futures.ThreadPoolExecutor(max_workers=3) as executor:        \n",
    "    # Start the load operations and mark each future with its URL\n",
    "    results = executor.map(bastter_module.first_pass, companies)\n",
    "\n",
    "fim = time.time()\n",
    "\n",
    "tempo_gasto = fim - inicio \n",
    "\n",
    "if tempo_gasto < 60:\n",
    "    print('----------------------------------------------------')\n",
    "    print(f'Tempo gasto na execução = {tempo_gasto} segundos')\n",
    "    print('----------  Done ---------------')\n",
    "else:\n",
    "    tempo_minutos = tempo_gasto/60\n",
    "    print('----------------------------------------------------')\n",
    "    print(f'Tempo gasto na execução = {tempo_minutos} minutos')\n",
    "    print('----------  Done ---------------')\n",
    "\n"
   ]
  }
 ],
 "metadata": {
  "colab": {
   "collapsed_sections": [],
   "name": "[OPP] - Stock Analisis.ipynb",
   "provenance": []
  },
  "kernelspec": {
   "display_name": "Python 3",
   "language": "python",
   "name": "python3"
  },
  "language_info": {
   "codemirror_mode": {
    "name": "ipython",
    "version": 3
   },
   "file_extension": ".py",
   "mimetype": "text/x-python",
   "name": "python",
   "nbconvert_exporter": "python",
   "pygments_lexer": "ipython3",
   "version": "3.7.7"
  }
 },
 "nbformat": 4,
 "nbformat_minor": 4
}
