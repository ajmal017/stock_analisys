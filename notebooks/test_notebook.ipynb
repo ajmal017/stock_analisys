{
 "cells": [
  {
   "cell_type": "markdown",
   "metadata": {},
   "source": [
    "# Data Setup"
   ]
  },
  {
   "cell_type": "code",
   "execution_count": 1,
   "metadata": {},
   "outputs": [],
   "source": [
    "from pathlib import Path\n",
    "\n",
    "cwd_path = Path('..')\n",
    "data_path = cwd_path / 'data'"
   ]
  }
 ],
 "metadata": {
  "language_info": {
   "codemirror_mode": {
    "name": "ipython",
    "version": 3
   },
   "file_extension": ".py",
   "mimetype": "text/x-python",
   "name": "python",
   "nbconvert_exporter": "python",
   "pygments_lexer": "ipython3",
   "version": "3.8.2-final"
  },
  "orig_nbformat": 2,
  "kernelspec": {
   "name": "python38264bitstockanalisysconda9db1a91f3ca64bfaa9da37a4c26b86cf",
   "display_name": "Python 3.8.2 64-bit ('stock_analisys': conda)"
  }
 },
 "nbformat": 4,
 "nbformat_minor": 2
}